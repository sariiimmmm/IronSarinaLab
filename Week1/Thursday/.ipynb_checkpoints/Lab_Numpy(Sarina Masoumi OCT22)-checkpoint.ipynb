{
 "cells": [
  {
   "cell_type": "markdown",
   "id": "ac4e76c1",
   "metadata": {},
   "source": [
    "\n",
    "\n",
    "# numpy exercises\n",
    "\n",
    "This is a collection of exercises that have been collected in the numpy mailing list, on stack overflow\n",
    "and in the numpy documentation. The goal of this collection is to offer a quick reference for both old\n",
    "and new users but also to provide a set of exercises for those who teach.\n",
    "\n",
    "\n",
    "If you find an error or think you've a better way to solve some of them, feel\n",
    "free to open an issue at <https://github.com/rougier/numpy-100>.\n",
    "File automatically generated. See the documentation to update questions/answers/hints programmatically.\n",
    "\n",
    "#### 1. Import the numpy package under the name `np` (★☆☆)\n",
    "`hint: import … as`\n",
    "\n",
    "#### 2. Create a null vector of size 10 (★☆☆)\n",
    "`hint: np.zeros`\n"
   ]
  },
  {
   "cell_type": "code",
   "execution_count": 26,
   "id": "0ec495f7",
   "metadata": {},
   "outputs": [
    {
     "name": "stdout",
     "output_type": "stream",
     "text": [
      "[0. 0. 0. 0. 0. 0. 0. 0. 0. 0.]\n"
     ]
    }
   ],
   "source": [
    "import numpy as np\n",
    "a=np.zeros(10)\n",
    "print(a)"
   ]
  },
  {
   "cell_type": "markdown",
   "id": "fe0eb4ac",
   "metadata": {},
   "source": [
    "#### 3. Create a null vector of size 10 but the fifth value which is 1 (★☆☆)\n",
    "`hint: array[4]`"
   ]
  },
  {
   "cell_type": "code",
   "execution_count": 44,
   "id": "2006ade7",
   "metadata": {},
   "outputs": [
    {
     "data": {
      "text/plain": [
       "array([0., 0., 0., 0., 1., 0., 0., 0., 0., 0.])"
      ]
     },
     "execution_count": 44,
     "metadata": {},
     "output_type": "execute_result"
    }
   ],
   "source": [
    "b=np.zeros(10)\n",
    "b[4]=1\n",
    "b"
   ]
  },
  {
   "cell_type": "markdown",
   "id": "eb3ab6c1",
   "metadata": {},
   "source": [
    "#### 4. Create a vector with values ranging from 10 to 49 (★☆☆)\n",
    "`hint: arange`\n"
   ]
  },
  {
   "cell_type": "code",
   "execution_count": 28,
   "id": "56c3bd15",
   "metadata": {},
   "outputs": [
    {
     "name": "stdout",
     "output_type": "stream",
     "text": [
      "[10 11 12 13 14 15 16 17 18 19 20 21 22 23 24 25 26 27 28 29 30 31 32 33\n",
      " 34 35 36 37 38 39 40 41 42 43 44 45 46 47 48]\n"
     ]
    }
   ],
   "source": [
    "c=np.arange(10,49)\n",
    "print(c)"
   ]
  },
  {
   "cell_type": "markdown",
   "id": "e8d0d2ce",
   "metadata": {},
   "source": [
    "#### 5. Create a 3x3 matrix with values ranging from 0 to 8 (★☆☆)\n",
    "`hint: reshape`"
   ]
  },
  {
   "cell_type": "code",
   "execution_count": 32,
   "id": "85cac002",
   "metadata": {},
   "outputs": [
    {
     "name": "stdout",
     "output_type": "stream",
     "text": [
      "[[0 1 2]\n",
      " [3 4 5]\n",
      " [6 7 8]]\n"
     ]
    }
   ],
   "source": [
    "d=np.arange(0,9).reshape((3, 3))\n",
    "print(d)"
   ]
  },
  {
   "cell_type": "markdown",
   "id": "1f1ef143",
   "metadata": {},
   "source": [
    "#### 6. Find indices of non-zero elements from [1,2,0,0,4,0] (★☆☆)\n",
    "`hint: np.nonzero`"
   ]
  },
  {
   "cell_type": "code",
   "execution_count": 63,
   "id": "1b683412",
   "metadata": {},
   "outputs": [
    {
     "data": {
      "text/plain": [
       "array([1, 2, 4])"
      ]
     },
     "execution_count": 63,
     "metadata": {},
     "output_type": "execute_result"
    }
   ],
   "source": [
    "p=np.array([1,2,0,0,4,0])\n",
    "p[np.nonzero(p)]\n"
   ]
  },
  {
   "cell_type": "markdown",
   "id": "57814fc4",
   "metadata": {},
   "source": [
    "#### 7. Create a 3x3 identity matrix (★☆☆)\n",
    "`hint: np.eye`"
   ]
  },
  {
   "cell_type": "code",
   "execution_count": 64,
   "id": "88ffeb98",
   "metadata": {},
   "outputs": [
    {
     "data": {
      "text/plain": [
       "array([[1., 0., 0.],\n",
       "       [0., 1., 0.],\n",
       "       [0., 0., 1.]])"
      ]
     },
     "execution_count": 64,
     "metadata": {},
     "output_type": "execute_result"
    }
   ],
   "source": [
    "f=np.eye(3)\n",
    "f"
   ]
  },
  {
   "cell_type": "markdown",
   "id": "add27e6a",
   "metadata": {},
   "source": [
    "#### 8. Create a 3x3x3 array with random values (★☆☆)\n",
    "`hint: np.random.random`"
   ]
  },
  {
   "cell_type": "code",
   "execution_count": 65,
   "id": "6edbd3ba",
   "metadata": {},
   "outputs": [
    {
     "data": {
      "text/plain": [
       "array([[[0.64304094, 0.79886091, 0.64625987],\n",
       "        [0.34663998, 0.66664362, 0.63660852],\n",
       "        [0.37292407, 0.48780201, 0.11545666]],\n",
       "\n",
       "       [[0.11059459, 0.78046628, 0.82336859],\n",
       "        [0.86539768, 0.2089114 , 0.64991726],\n",
       "        [0.08024683, 0.50377994, 0.77807258]],\n",
       "\n",
       "       [[0.17233716, 0.43596311, 0.16968228],\n",
       "        [0.71028704, 0.61875857, 0.02841153],\n",
       "        [0.65404353, 0.12101106, 0.87890353]]])"
      ]
     },
     "execution_count": 65,
     "metadata": {},
     "output_type": "execute_result"
    }
   ],
   "source": [
    "random_a = np.random.random((3,3,3))\n",
    "random_a"
   ]
  },
  {
   "cell_type": "markdown",
   "id": "14086c04",
   "metadata": {},
   "source": [
    "#### 9. Create a 10x10 array with random values and find the minimum and maximum values (★☆☆)\n",
    "`hint: min, max`"
   ]
  },
  {
   "cell_type": "code",
   "execution_count": 66,
   "id": "8fff1e51",
   "metadata": {},
   "outputs": [
    {
     "name": "stdout",
     "output_type": "stream",
     "text": [
      "min numberis :  0.020200920088049856 and max number is: 0.9818657863387142\n"
     ]
    }
   ],
   "source": [
    "b_random=np.random.random((10,10))\n",
    "print(\"min numberis : \", np.min(b_random),\"and max number is:\", np.max(b_random))"
   ]
  },
  {
   "cell_type": "markdown",
   "id": "9f0a0aa5",
   "metadata": {},
   "source": [
    "#### 10. Create a random vector of size 30 and find the mean value (★☆☆)\n",
    "`hint: mean`"
   ]
  },
  {
   "cell_type": "code",
   "execution_count": 67,
   "id": "a363e904",
   "metadata": {},
   "outputs": [
    {
     "name": "stdout",
     "output_type": "stream",
     "text": [
      "0.5241294177757378\n"
     ]
    }
   ],
   "source": [
    "c_random=np.random.random((30))\n",
    "c_mean=np.mean(c_random)\n",
    "print(c_mean)"
   ]
  },
  {
   "cell_type": "markdown",
   "id": "afcf96cf",
   "metadata": {},
   "source": [
    "#### 11. Create a 5x5 matrix with values 1,2,3,4 just below the diagonal (★☆☆)\n",
    "`hint: np.diag`"
   ]
  },
  {
   "cell_type": "code",
   "execution_count": 70,
   "id": "683b3706",
   "metadata": {},
   "outputs": [
    {
     "data": {
      "text/plain": [
       "array([[1, 0, 0, 0, 0],\n",
       "       [0, 2, 0, 0, 0],\n",
       "       [0, 0, 3, 0, 0],\n",
       "       [0, 0, 0, 4, 0],\n",
       "       [0, 0, 0, 0, 5]])"
      ]
     },
     "execution_count": 70,
     "metadata": {},
     "output_type": "execute_result"
    }
   ],
   "source": [
    "a_dg=np.diag([1,2,3,4,5])\n",
    "a_dg"
   ]
  },
  {
   "cell_type": "markdown",
   "id": "9ae6ec5f",
   "metadata": {},
   "source": [
    "#### 12. Normalize a 5x5 random matrix (★☆☆)\n",
    "`hint: (x -mean)/std`"
   ]
  },
  {
   "cell_type": "code",
   "execution_count": 76,
   "id": "881bc1f1",
   "metadata": {},
   "outputs": [
    {
     "data": {
      "text/plain": [
       "array([[ 0.74941817, -0.26264825,  0.3403097 ,  0.72915876, -1.61304942],\n",
       "       [ 1.27911877, -1.53418645,  1.04314192, -1.09414415,  1.31052883],\n",
       "       [-0.78708827,  0.84511033,  0.3148817 , -0.07576778,  1.28870414],\n",
       "       [-1.7233571 , -1.60347382, -0.61853169, -0.72326287, -1.00614137],\n",
       "       [ 0.90770097,  0.45829667,  0.97727305,  0.76054616,  0.037462  ]])"
      ]
     },
     "execution_count": 76,
     "metadata": {},
     "output_type": "execute_result"
    }
   ],
   "source": [
    "d_random=np.random.random((5,5))\n",
    "x = (d_random - np.mean(d_random))/np.std(d_random)\n",
    "x"
   ]
  },
  {
   "cell_type": "markdown",
   "id": "ec86ea6a",
   "metadata": {},
   "source": [
    "#### 13. How to find common values between two arrays? (★☆☆)\n",
    "`hint: np.intersect1d`"
   ]
  },
  {
   "cell_type": "code",
   "execution_count": null,
   "id": "9f432db2",
   "metadata": {},
   "outputs": [],
   "source": []
  },
  {
   "cell_type": "markdown",
   "id": "0c418cb0",
   "metadata": {},
   "source": [
    "#### 14. Create a random vector of size 10 and sort it (★★☆)\n",
    "`hint: sort`"
   ]
  },
  {
   "cell_type": "code",
   "execution_count": 94,
   "id": "f43c476c",
   "metadata": {},
   "outputs": [
    {
     "name": "stdout",
     "output_type": "stream",
     "text": [
      "[0.03463251 0.045606   0.15316849 0.16986899 0.20146652 0.27889496\n",
      " 0.32331849 0.64849043 0.83585174 0.88985126]\n"
     ]
    }
   ],
   "source": [
    "h_random=np.random.random((10))\n",
    "print(np.sort(h_random))"
   ]
  },
  {
   "cell_type": "markdown",
   "id": "9d360a07",
   "metadata": {},
   "source": [
    "#### 15. Create random vector of size 10 and replace the maximum value by 0 (★★☆)\n",
    "`hint: argmax`"
   ]
  },
  {
   "cell_type": "code",
   "execution_count": 97,
   "id": "7fd6cdf6",
   "metadata": {},
   "outputs": [
    {
     "data": {
      "text/plain": [
       "array([0.44563866, 0.19740831, 0.59973064, 0.31733573, 0.05971365,\n",
       "       0.84221115, 0.64944203, 0.27311537, 0.        , 0.79887789])"
      ]
     },
     "execution_count": 97,
     "metadata": {},
     "output_type": "execute_result"
    }
   ],
   "source": [
    "k_random=np.random.random((10))\n",
    "k_random[k_random.argmax()]=0\n",
    "k_random"
   ]
  },
  {
   "cell_type": "markdown",
   "id": "cb9c081b",
   "metadata": {},
   "source": [
    "#### 16. Subtract the mean of each row of a matrix (★★☆)\n",
    "`hint: mean(axis=,keepdims=)`"
   ]
  },
  {
   "cell_type": "code",
   "execution_count": 111,
   "id": "4a36eb5f",
   "metadata": {},
   "outputs": [
    {
     "name": "stdout",
     "output_type": "stream",
     "text": [
      "[[8 2 1]\n",
      " [9 8 4]\n",
      " [0 1 5]]\n",
      "[[ 4.33333333 -1.66666667 -2.66666667]\n",
      " [ 2.          1.         -3.        ]\n",
      " [-2.         -1.          3.        ]]\n"
     ]
    }
   ],
   "source": [
    "k = np.random.randint(0, 10, (3, 3))\n",
    "print(k)\n",
    "s = k - k.mean(axis=1, keepdims=True)\n",
    "print(s)"
   ]
  },
  {
   "cell_type": "markdown",
   "id": "777f5bff",
   "metadata": {},
   "source": [
    "#### 17. How to get the n largest values of an array (★★★)\n",
    "`Z = np.arange(10000)\n",
    "np.random.shuffle(Z)\n",
    "n = 5\n",
    "hint: np.argsort | np.argpartition`"
   ]
  },
  {
   "cell_type": "code",
   "execution_count": null,
   "id": "ba15d413",
   "metadata": {},
   "outputs": [],
   "source": []
  },
  {
   "cell_type": "markdown",
   "id": "7a24efd5",
   "metadata": {},
   "source": [
    "\n",
    "#### 18. Create a random 5*3 matrix and replace items that are larger than 4 by their squares ( Example:  6 --> 36) \n",
    "`hint: np.where`"
   ]
  },
  {
   "cell_type": "code",
   "execution_count": null,
   "id": "bdb260f9",
   "metadata": {},
   "outputs": [],
   "source": []
  }
 ],
 "metadata": {
  "kernelspec": {
   "display_name": "Python 3 (ipykernel)",
   "language": "python",
   "name": "python3"
  },
  "language_info": {
   "codemirror_mode": {
    "name": "ipython",
    "version": 3
   },
   "file_extension": ".py",
   "mimetype": "text/x-python",
   "name": "python",
   "nbconvert_exporter": "python",
   "pygments_lexer": "ipython3",
   "version": "3.9.12"
  }
 },
 "nbformat": 4,
 "nbformat_minor": 5
}
