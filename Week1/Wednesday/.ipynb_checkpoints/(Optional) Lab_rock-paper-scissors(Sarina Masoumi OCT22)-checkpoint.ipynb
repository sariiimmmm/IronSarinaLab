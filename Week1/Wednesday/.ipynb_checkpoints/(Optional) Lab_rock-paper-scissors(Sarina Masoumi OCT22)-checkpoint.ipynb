{
 "cells": [
  {
   "cell_type": "markdown",
   "metadata": {},
   "source": [
    "<img src=\"https://bit.ly/2VnXWr2\" width=\"100\" align=\"left\">"
   ]
  },
  {
   "cell_type": "markdown",
   "metadata": {},
   "source": [
    "# Rock, Paper & Scissors\n",
    "\n",
    "Let's play the famous game against our computer. You can check the rules [here](https://en.wikipedia.org/wiki/Rock%E2%80%93paper%E2%80%93scissors). \n",
    "\n",
    "## Task\n",
    "Create a program that imitates the playability of the well known game of rock, paper, scissors. Follow the guidelines provided.\n",
    "\n",
    "## Tools\n",
    "1. Loop: **for/while**\n",
    "2. Functions: **input(), print()...**\n",
    "3. Conditional statements: **if, elif, else**\n",
    "4. Definition of functions. Modular programming\n",
    "5. Import modules\n",
    "\n",
    "- **To solve this challenge, the use of functions is recommended.**\n",
    "- <b>Hint: You dont need necessarily to follow the instructions in this notebook to solve the tasks. simply just get the job done effeciently ;) \n",
    "\n",
    "#### 1. Import the choice function of the random module."
   ]
  },
  {
   "cell_type": "code",
   "execution_count": 4,
   "metadata": {},
   "outputs": [],
   "source": [
    "import random"
   ]
  },
  {
   "cell_type": "markdown",
   "metadata": {},
   "source": [
    "#### 2. Create a list that includes the 3 possible gesture options of the game: 'rock', 'paper' or 'scissors'. Store the list in a variable called `gestures`."
   ]
  },
  {
   "cell_type": "code",
   "execution_count": 5,
   "metadata": {},
   "outputs": [],
   "source": [
    "gesture=['rock','paper','scissors']"
   ]
  },
  {
   "cell_type": "markdown",
   "metadata": {},
   "source": [
    "#### 3. Create a variable called `n_rounds` to store the maximum number of rounds to play in a game. \n",
    "Remember that the number of rounds must be odd: 1, 3, 5, ..."
   ]
  },
  {
   "cell_type": "code",
   "execution_count": 27,
   "metadata": {},
   "outputs": [],
   "source": [
    "def round_choice():\n",
    "    global n_rounds\n",
    "    n_rounds = int(input(\"Enter the number of rounds:\" ))\n",
    "    while n_rounds %2 == 0:\n",
    "        print(\"Please enter an odd number\")\n",
    "        n_rounds=int(input(\"Enter the number of rounds:\"))\n",
    "    if n_rounds %2 != 0:\n",
    "        return (\"yay! you choose \"+str(n_rounds)+\" rounds\")\n"
   ]
  },
  {
   "cell_type": "markdown",
   "metadata": {},
   "source": [
    "#### 4. Create a variable called `rounds_to_win` to store the number of rounds that a player must win to win the game.\n",
    "**Hint**: the value stored in `rounds_to_win` depends on the value of `n_rounds`. "
   ]
  },
  {
   "cell_type": "code",
   "execution_count": 28,
   "metadata": {},
   "outputs": [],
   "source": [
    "#rounds_to_win= n_rounds//2+1\n",
    "#rounds_to_win"
   ]
  },
  {
   "cell_type": "markdown",
   "metadata": {},
   "source": [
    "#### 5. Create two variables to store the number of rounds that the computer and the player have won. Call these variables `cpu_score` and `player_score`."
   ]
  },
  {
   "cell_type": "code",
   "execution_count": 29,
   "metadata": {},
   "outputs": [],
   "source": [
    "cpu_score=0\n",
    "player_score=0"
   ]
  },
  {
   "cell_type": "markdown",
   "metadata": {},
   "source": [
    "#### 6. Define a function that randomly returns one of the 3 gesture options.\n",
    "You will use this function to simulate the gesture choice of the computer. "
   ]
  },
  {
   "cell_type": "code",
   "execution_count": 30,
   "metadata": {},
   "outputs": [],
   "source": [
    "def random_ges():\n",
    "    computer_choice=random.choice(gesture)\n",
    "    return computer_choice\n"
   ]
  },
  {
   "cell_type": "markdown",
   "metadata": {},
   "source": [
    "#### 7. Define a function that asks the player which is the gesture he or she wants to show: 'rock', 'paper' or 'scissors'.\n",
    "The player should only be allowed to choose one of the 3 gesture options. If the player's choice is not rock, paper or scissors, keep asking until it is."
   ]
  },
  {
   "cell_type": "code",
   "execution_count": 31,
   "metadata": {},
   "outputs": [],
   "source": [
    "def player():\n",
    "    player_input=input(\"Enter a choice('rock','paper','scissors')\")\n",
    "    while player_input.lower() not in gesture:\n",
    "        print(\"please choice from ('rock','paper','scissors')\")\n",
    "        player_input=input(\"Enter a choice('rock','paper','scissors')\")\n",
    "    if player_input.lower() in gesture:\n",
    "        return player_input\n"
   ]
  },
  {
   "cell_type": "markdown",
   "metadata": {},
   "source": [
    "\n",
    "#### 8. Define a function that checks who won a round. \n",
    "The function should return 0 if there is a tie, 1 if the computer wins and 2 if the player wins."
   ]
  },
  {
   "cell_type": "code",
   "execution_count": 32,
   "metadata": {},
   "outputs": [],
   "source": [
    "def play(player_input,computer_choice):\n",
    "    global cpu_score\n",
    "    global player_score\n",
    "    if player_input == \"rock\":\n",
    "        if computer_choice == \"rock\":\n",
    "            return \"computer choose Rock and it's a tie\"\n",
    "        elif computer_choice == \"paper\":\n",
    "            cpu_score+=1\n",
    "            return \"computer choose Paper and paper wins\" \n",
    "        elif computer_choice == \"scissors\":\n",
    "            player_score+=1\n",
    "            return \"computer choose Scissors and player wins\"\n",
    "    elif player_input == \"paper\":\n",
    "        if computer_choice == \"rock\":\n",
    "            player_score+=1\n",
    "            return \"computer choose Rock and player wins\"\n",
    "        elif computer_choice == \"paper\":\n",
    "            return \"computer choose Paper and it's a tie\"\n",
    "        elif computer_choice == \"scissors\":\n",
    "            cpu_score+=1\n",
    "            return \"computer choose Scissors and computer wins\"\n",
    "    elif player_input == \"scissors\":\n",
    "        if computer_choice == \"rock\":\n",
    "            cpu_score+=1\n",
    "            return \"computer choose Rock and computer wins\"\n",
    "        elif computer_choice == \"paper\":\n",
    "            player_score+=1\n",
    "            return \"computer choose Paper and player wins\"\n",
    "        elif computer_choice == \"scissors\":\n",
    "            return \"computer choose Scissors and it's a tie\"\n",
    "    "
   ]
  },
  {
   "cell_type": "markdown",
   "metadata": {},
   "source": [
    "#### 9. Define a function that prints the choice of the computer, the choice of the player and a message that announces who won the current round. \n",
    "You should also use this function to update the variables that count the number of rounds that the computer and the player have won. The score of the winner increases by one point. If there is a tie, the score does not increase."
   ]
  },
  {
   "cell_type": "code",
   "execution_count": 35,
   "metadata": {},
   "outputs": [],
   "source": [
    "def result():\n",
    "    if player_score > cpu_score:\n",
    "        return (\"Player wins \"+\"\\n\"+\"Player score is : \"+str(player_score)+\"\\n\"+ \"Computer score is : \"+str(cpu_score))\n",
    "    elif cpu_score > player_score:\n",
    "        return (\"Computer wins \"+\"\\n\"+\"Player score is : \"+str(player_score)+\"\\n\"+\"Computer score is : \"+str(cpu_score))\n",
    "    else:\n",
    "        return (\"it's a Tie \"+\"\\n\"+\"Player score is : \"+str(player_score)+\"\\n\"+ \"Computer score is : \"+str(cpu_score))"
   ]
  },
  {
   "cell_type": "markdown",
   "metadata": {},
   "source": [
    "#### 10. Now it's time to code the execution of the game using the functions and variables you defined above. \n",
    "\n",
    "First, create a loop structure that repeats while no player reaches the minimum score necessary to win and the number of rounds is less than the maximum number of rounds to play in a game.  \n",
    "\n",
    "Inside the loop, use the functions and variables above to create the execution of a round: ask for the player's choice, generate the random choice of the computer, show the round results, update the scores, etc. "
   ]
  },
  {
   "cell_type": "code",
   "execution_count": 36,
   "metadata": {},
   "outputs": [
    {
     "name": "stdout",
     "output_type": "stream",
     "text": [
      "Enter the number of rounds:4\n",
      "Please enter an odd number\n",
      "Enter the number of rounds:5\n",
      "Enter a choice('rock','paper','scissors')paper\n",
      "Enter a choice('rock','paper','scissors')rock\n",
      "Enter a choice('rock','paper','scissors')paper\n",
      "Enter a choice('rock','paper','scissors')scissors\n",
      "Enter a choice('rock','paper','scissors')paper\n",
      "it's a Tie \n",
      "Player score is : 3\n",
      "Computer score is : 3\n"
     ]
    }
   ],
   "source": [
    "round_choice()\n",
    "while n_rounds>0:\n",
    "    n_rounds -=1\n",
    "    play(player(),random_ges())\n",
    "if n_rounds==0:\n",
    "    print(result())"
   ]
  },
  {
   "cell_type": "markdown",
   "metadata": {},
   "source": [
    "#### 11. Print the winner of the game based on who won more rounds.\n",
    "Remember that the game might be tied. "
   ]
  },
  {
   "cell_type": "code",
   "execution_count": null,
   "metadata": {},
   "outputs": [],
   "source": []
  },
  {
   "cell_type": "markdown",
   "metadata": {},
   "source": [
    "# (Optional) Rock, Paper, Scissors, Lizard & Spock\n",
    "![](images/rpsls.jpg)\n",
    "\n",
    "In this challenge, you need to improve the previous game by adding two new options. To know more about the rules of the improved version of rock, paper, scissors, check this [link](http://www.samkass.com/theories/RPSSL.html). \n",
    "\n",
    "In addition, you will also need to improve how the game interacts with the player: the number of rounds to play, which must be an odd number, will be requested to the user until a valid number is entered. Define a new function to make that request.\n",
    "\n",
    "**Hint**: Try to reuse the code that you already coded in the previous challenge. If your code is efficient, this bonus will only consist of simple modifications to the original game."
   ]
  },
  {
   "cell_type": "code",
   "execution_count": null,
   "metadata": {},
   "outputs": [],
   "source": []
  }
 ],
 "metadata": {
  "kernelspec": {
   "display_name": "Python 3 (ipykernel)",
   "language": "python",
   "name": "python3"
  },
  "language_info": {
   "codemirror_mode": {
    "name": "ipython",
    "version": 3
   },
   "file_extension": ".py",
   "mimetype": "text/x-python",
   "name": "python",
   "nbconvert_exporter": "python",
   "pygments_lexer": "ipython3",
   "version": "3.9.12"
  },
  "toc": {
   "base_numbering": 1,
   "nav_menu": {},
   "number_sections": true,
   "sideBar": true,
   "skip_h1_title": false,
   "title_cell": "Table of Contents",
   "title_sidebar": "Contents",
   "toc_cell": false,
   "toc_position": {},
   "toc_section_display": true,
   "toc_window_display": false
  }
 },
 "nbformat": 4,
 "nbformat_minor": 2
}
