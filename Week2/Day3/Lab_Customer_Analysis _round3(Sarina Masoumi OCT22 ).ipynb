{
 "cells": [
  {
   "cell_type": "markdown",
   "id": "9890e2ed",
   "metadata": {},
   "source": [
    "# Lab Case Study\n",
    "\n",
    "## Scenario\n",
    "\n",
    "You are working as an analyst for an auto insurance company. The company has collected some data about its customers including their demographics, education, employment, policy details, vehicle information on which insurance policy is, and claim amounts. You will help the senior management with some business questions that will help them to better understand their customers, improve their services, and improve profitability.\n",
    "\n",
    "## Business Objectives\n",
    "\n",
    "- Retain customers,\n",
    "- analyze relevant customer data,\n",
    "- develop focused customer retention programs.\n",
    "\n",
    "Based on the analysis, take targeted actions to increase profitable customer response, retention, and growth.\n",
    "\n",
    "## Activities\n",
    "\n",
    "Refer to the [`Activities.md`](./Activities.md) file where you will find guidelines for some of the activities that you want to do.\n",
    "\n",
    "## Data\n",
    "\n",
    "The csv files is provided in the folder. The columns in the file are self-explanatory.\n"
   ]
  },
  {
   "cell_type": "code",
   "execution_count": null,
   "id": "2d96d4a1",
   "metadata": {},
   "outputs": [],
   "source": []
  }
 ],
 "metadata": {
  "kernelspec": {
   "display_name": "Python 3 (ipykernel)",
   "language": "python",
   "name": "python3"
  },
  "language_info": {
   "codemirror_mode": {
    "name": "ipython",
    "version": 3
   },
   "file_extension": ".py",
   "mimetype": "text/x-python",
   "name": "python",
   "nbconvert_exporter": "python",
   "pygments_lexer": "ipython3",
   "version": "3.9.12"
  }
 },
 "nbformat": 4,
 "nbformat_minor": 5
}
