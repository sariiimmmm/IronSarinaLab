{
 "cells": [
  {
   "cell_type": "code",
   "execution_count": 1,
   "id": "a601c5ad",
   "metadata": {},
   "outputs": [],
   "source": [
    "import pandas as pd"
   ]
  },
  {
   "cell_type": "code",
   "execution_count": 2,
   "id": "809ad73d",
   "metadata": {},
   "outputs": [],
   "source": [
    "from time import sleep\n",
    "from random import randint"
   ]
  },
  {
   "cell_type": "code",
   "execution_count": 3,
   "id": "81d5b470",
   "metadata": {
    "scrolled": true
   },
   "outputs": [],
   "source": [
    "import config"
   ]
  },
  {
   "cell_type": "code",
   "execution_count": 4,
   "id": "73ef0f84",
   "metadata": {},
   "outputs": [],
   "source": [
    "import spotipy\n",
    "import json\n",
    "from spotipy.oauth2 import SpotifyClientCredentials"
   ]
  },
  {
   "cell_type": "code",
   "execution_count": 5,
   "id": "673deb4e",
   "metadata": {
    "scrolled": true
   },
   "outputs": [],
   "source": [
    "sp = spotipy.Spotify(auth_manager=SpotifyClientCredentials(client_id= config.client_id, client_secret= config.client_secret))"
   ]
  },
  {
   "cell_type": "code",
   "execution_count": 6,
   "id": "b4e1d529",
   "metadata": {},
   "outputs": [],
   "source": [
    "playlist = sp.user_playlist_tracks(\"spotify\", \"5fo41o54DPTvdPO2uMTDH1\",market=\"GB\")"
   ]
  },
  {
   "cell_type": "code",
   "execution_count": 7,
   "id": "b7e51ade",
   "metadata": {},
   "outputs": [
    {
     "data": {
      "text/plain": [
       "'6iaSML1PIYq936g62BDtBq'"
      ]
     },
     "execution_count": 7,
     "metadata": {},
     "output_type": "execute_result"
    }
   ],
   "source": [
    "song_id = playlist[\"items\"][1]['track'][\"id\"]\n",
    "song_id"
   ]
  },
  {
   "cell_type": "code",
   "execution_count": 8,
   "id": "1b57247e",
   "metadata": {
    "scrolled": true
   },
   "outputs": [
    {
     "data": {
      "text/plain": [
       "[{'danceability': 0.623,\n",
       "  'energy': 0.692,\n",
       "  'key': 2,\n",
       "  'loudness': -5.122,\n",
       "  'mode': 1,\n",
       "  'speechiness': 0.0504,\n",
       "  'acousticness': 0.328,\n",
       "  'instrumentalness': 0,\n",
       "  'liveness': 0.153,\n",
       "  'valence': 0.566,\n",
       "  'tempo': 79.899,\n",
       "  'type': 'audio_features',\n",
       "  'id': '6iaSML1PIYq936g62BDtBq',\n",
       "  'uri': 'spotify:track:6iaSML1PIYq936g62BDtBq',\n",
       "  'track_href': 'https://api.spotify.com/v1/tracks/6iaSML1PIYq936g62BDtBq',\n",
       "  'analysis_url': 'https://api.spotify.com/v1/audio-analysis/6iaSML1PIYq936g62BDtBq',\n",
       "  'duration_ms': 240051,\n",
       "  'time_signature': 4}]"
      ]
     },
     "execution_count": 8,
     "metadata": {},
     "output_type": "execute_result"
    }
   ],
   "source": [
    "sp.audio_features(song_id)"
   ]
  },
  {
   "cell_type": "code",
   "execution_count": 9,
   "id": "683e9222",
   "metadata": {
    "scrolled": true
   },
   "outputs": [
    {
     "data": {
      "text/plain": [
       "100"
      ]
     },
     "execution_count": 9,
     "metadata": {},
     "output_type": "execute_result"
    }
   ],
   "source": [
    "len(playlist[\"items\"])"
   ]
  },
  {
   "cell_type": "code",
   "execution_count": 10,
   "id": "170db6f0",
   "metadata": {},
   "outputs": [],
   "source": [
    "username='spotify'\n",
    "playlist_id='5fo41o54DPTvdPO2uMTDH1'"
   ]
  },
  {
   "cell_type": "code",
   "execution_count": 11,
   "id": "6bb1ac26",
   "metadata": {},
   "outputs": [],
   "source": [
    "list_of_playlists = ['5fo41o54DPTvdPO2uMTDH1','37i9dQZF1DXbITWG1ZJKYt', '73wCNB78g3O2nIDLYJA35G', '2TNjpzZoERsFois0r7GF8V', '2UZk7JjJnbTut1w8fqs3JL', '4g3gKFVo0vY8W5QE0O2goI','4hvbZXAhxnqcybT7zNhHLn', '37i9dQZF1DX1Hya1sRqqxI', '39imuN0VtH1MDFj9zUZnWR', '2JRfbdOI60Mn8kswRG7H6q', '1lcbYKyLFvyLb5rZXbVVYc', '4NhDcZoiom7nsuhtgRgpCK', '0mIPq61j4OwkEI2PJqF4KM' \n",
    "]"
   ]
  },
  {
   "cell_type": "code",
   "execution_count": 13,
   "id": "9775c03b",
   "metadata": {},
   "outputs": [],
   "source": [
    "list_of_playlists2 = ['0OzgFmOBqTe6CHNgJk9zpT','4c8MUTW1ipZsO7lM9t8BIa']"
   ]
  },
  {
   "cell_type": "code",
   "execution_count": 14,
   "id": "7790c589",
   "metadata": {},
   "outputs": [
    {
     "ename": "NameError",
     "evalue": "name 'get_playlist_tracks' is not defined",
     "output_type": "error",
     "traceback": [
      "\u001b[0;31m---------------------------------------------------------------------------\u001b[0m",
      "\u001b[0;31mNameError\u001b[0m                                 Traceback (most recent call last)",
      "Input \u001b[0;32mIn [14]\u001b[0m, in \u001b[0;36m<cell line: 3>\u001b[0;34m()\u001b[0m\n\u001b[1;32m      1\u001b[0m list_of_tracks2\u001b[38;5;241m=\u001b[39m[]\n\u001b[1;32m      3\u001b[0m \u001b[38;5;28;01mfor\u001b[39;00m playlist_id \u001b[38;5;129;01min\u001b[39;00m list_of_playlists2:\n\u001b[0;32m----> 4\u001b[0m     list_of_tracks2\u001b[38;5;241m.\u001b[39mextend(\u001b[43mget_playlist_tracks\u001b[49m(username, playlist_id))\n",
      "\u001b[0;31mNameError\u001b[0m: name 'get_playlist_tracks' is not defined"
     ]
    }
   ],
   "source": [
    "list_of_tracks2=[]\n",
    "\n",
    "for playlist_id in list_of_playlists2:\n",
    "    list_of_tracks2.extend(get_playlist_tracks(username, playlist_id))"
   ]
  },
  {
   "cell_type": "code",
   "execution_count": null,
   "id": "4d0bc6ca",
   "metadata": {},
   "outputs": [],
   "source": []
  }
 ],
 "metadata": {
  "kernelspec": {
   "display_name": "Python 3 (ipykernel)",
   "language": "python",
   "name": "python3"
  },
  "language_info": {
   "codemirror_mode": {
    "name": "ipython",
    "version": 3
   },
   "file_extension": ".py",
   "mimetype": "text/x-python",
   "name": "python",
   "nbconvert_exporter": "python",
   "pygments_lexer": "ipython3",
   "version": "3.9.12"
  }
 },
 "nbformat": 4,
 "nbformat_minor": 5
}
